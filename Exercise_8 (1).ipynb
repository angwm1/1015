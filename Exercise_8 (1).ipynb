{
 "cells": [
  {
   "cell_type": "markdown",
   "id": "e039a812-0926-4f2b-b1b1-31dc798c8c00",
   "metadata": {},
   "source": [
    "# Simplified Balance Ball Game - Search Algorithm Implementation\n",
    "\n",
    "## Introduction\n",
    "In this notebook, we explore various search algorithms to navigate a ball through a grid-based environment in the Simplified Balance Ball Game. Our objective is to tilt the platform to guide the ball to collect points efficiently and reach a goal state.\n",
    "\n",
    "Now, let's set up our game environment and define the grid. We will also include a visualization function to help us see the state of the game at each step.\n"
   ]
  },
  {
   "cell_type": "code",
   "execution_count": 74,
   "id": "a193e76e-984b-4fb8-ac48-6eef671a69d9",
   "metadata": {},
   "outputs": [],
   "source": [
    "# Imports\n",
    "import matplotlib.pyplot as plt\n",
    "import numpy as np\n",
    "from queue import Queue, PriorityQueue"
   ]
  },
  {
   "cell_type": "code",
   "execution_count": 75,
   "id": "1b9e7a13-918a-43ec-8aa4-a44bdf09324f",
   "metadata": {},
   "outputs": [],
   "source": [
    "# EMPTY cells are free to move into, POINT cells represent collectible points,\n",
    "# BALL represents the current position of the ball, and OBSTACLE represents areas the ball cannot pass through.\n",
    "# Global Definitions and Constants\n",
    "EMPTY, POINT, BALL, OBSTACLE = 0, 1, 2, 3\n",
    "SIZE = 5  # example for a 5x5 grid\n",
    "# Define movement directions\n",
    "directions = {'up': (-1, 0), 'down': (1, 0), 'left': (0, -1), 'right': (0, 1)}\n",
    "goals = {(2, 2), (4, 4)}\n",
    "\n",
    "def create_grid(size, points):\n",
    "    grid = np.full((size, size), EMPTY)\n",
    "    for point in points:\n",
    "        grid[point] = POINT\n",
    "    return grid\n",
    "\n",
    "def plot_grid(grid, ball_position):\n",
    "    fig, ax = plt.subplots()\n",
    "    ax.matshow(grid, cmap=plt.cm.Blues)\n",
    "\n",
    "    # Plot ball\n",
    "    ax.plot(ball_position[1], ball_position[0], 'o', color='red')\n",
    "\n",
    "    # Draw gridlines\n",
    "    for i in range(SIZE):\n",
    "        ax.axhline(i - 0.5, lw=2, color='k', zorder=5)\n",
    "        ax.axvline(i - 0.5, lw=2, color='k', zorder=5)\n",
    "    \n",
    "    plt.xticks(range(SIZE))\n",
    "    plt.yticks(range(SIZE))\n",
    "    ax.xaxis.set_ticks_position('none') \n",
    "    ax.yaxis.set_ticks_position('none')\n",
    "    plt.show()"
   ]
  },
  {
   "cell_type": "markdown",
   "id": "9ece728b-9d37-4234-a259-482f74d7345e",
   "metadata": {},
   "source": [
    "The `create_grid` function initializes the grid with the given points, and the `plot_grid` function is responsible for drawing the grid and the ball's current position. Below, we visualize the initial state of our game board."
   ]
  },
  {
   "cell_type": "code",
   "execution_count": 76,
   "id": "6ac82560-767f-42a3-a7f1-f3245ce5fdfe",
   "metadata": {},
   "outputs": [],
   "source": [
    "def plot_grid_with_path(grid, start, path, goals):\n",
    "    grid_with_path = np.copy(grid)\n",
    "    current_position = start\n",
    "    for step in path:\n",
    "        direction = directions[step]\n",
    "        current_position = tuple(map(sum, zip(current_position, direction)))\n",
    "        x, y = current_position\n",
    "        grid_with_path[x, y] = BALL  # Mark the ball's path\n",
    "    \n",
    "    # Add remaining points\n",
    "    for goal in goals:\n",
    "        x, y = goal\n",
    "        if grid_with_path[x, y] == EMPTY:\n",
    "            grid_with_path[x, y] = POINT\n",
    "\n",
    "    plot_grid(grid_with_path, current_position)"
   ]
  },
  {
   "cell_type": "code",
   "execution_count": 77,
   "id": "db64b411-6bb4-444f-83c9-89f489d7efbc",
   "metadata": {},
   "outputs": [
    {
     "data": {
      "image/png": "[encoded data removed]",
      "text/plain": [
       "<Figure size 640x480 with 1 Axes>"
      ]
     },
     "metadata": {},
     "output_type": "display_data"
    }
   ],
   "source": [
    "# Example\n",
    "# Initialize the game grid with points\n",
    "points = [(0, 0), (2, 2), (4, 4)]  # Define points in the grid\n",
    "grid = create_grid(SIZE, points)  # Create the grid\n",
    "\n",
    "# Visualize the initial grid state\n",
    "plot_grid(grid, (2, 2))  # Visualize the grid with the ball's starting position"
   ]
  },
  {
   "cell_type": "markdown",
   "id": "75ad1fc8-7960-4e1f-8d92-1ef83dc9e6a3",
   "metadata": {},
   "source": [
    "Next, we define the mechanics of our game. The `move_ball` function computes the ball's next position based on the direction of the tilt. The `tilt_platform` function simulates tilting the platform in one direction until the ball either hits an obstacle, collects a point, or can no longer move in that direction."
   ]
  },
  {
   "cell_type": "code",
   "execution_count": 78,
   "id": "cab04e13-f313-4ae3-a7c0-2fdb0bba2242",
   "metadata": {},
   "outputs": [],
   "source": [
    "def is_valid(grid, position):\n",
    "    # Check if a position is within the bounds and not an obstacle\n",
    "    x, y = position\n",
    "    return 0 <= x < SIZE and 0 <= y < SIZE and grid[x][y] != OBSTACLE\n",
    "\n",
    "def move_ball(grid, start, direction, goals):\n",
    "    # Calculate the next position\n",
    "    x, y = start\n",
    "    dx, dy = directions[direction]\n",
    "    next_position = (x + dx, y + dy)\n",
    "    \n",
    "    # Check if the next position is valid\n",
    "    if is_valid(grid, next_position):\n",
    "        # If the next position has a point, return it as a goal state\n",
    "        if next_position in goals:\n",
    "            return next_position, True\n",
    "        return next_position, False\n",
    "    return start, False\n",
    "\n",
    "def tilt_platform(grid, start, direction, goals):\n",
    "    current_position = start\n",
    "    collected_goals = set()\n",
    "    while True:\n",
    "        next_position, reached_goal = move_ball(grid, current_position, direction, goals)\n",
    "        if reached_goal:\n",
    "            collected_goals.add(next_position)\n",
    "            # Check if all points are collected\n",
    "            if collected_goals == goals:\n",
    "                return next_position, collected_goals\n",
    "        if current_position == next_position:\n",
    "            break  # Ball has stopped moving\n",
    "        current_position = next_position\n",
    "    return current_position, collected_goals\n",
    "\n",
    "def is_valid_move(grid, position, visited):\n",
    "    x, y = position\n",
    "    return (0 <= x < SIZE and 0 <= y < SIZE and grid[x, y] != OBSTACLE and position not in visited)"
   ]
  },
  {
   "cell_type": "markdown",
   "id": "7eb4082a-23ea-49e8-b34c-82aea78f72ea",
   "metadata": {},
   "source": [
    "## Implementing Breadth-First Search (BFS)\n",
    "BFS is a level-by-level search strategy. In the context of our game, it simulates the tilting of the platform in every direction possible, one step at a time, to find the shortest path to collect all the points."
   ]
  },
  {
   "cell_type": "code",
   "execution_count": 79,
   "id": "e366e7c6-6b93-45d1-a0ff-d9fce6adb85c",
   "metadata": {},
   "outputs": [
    {
     "name": "stdout",
     "output_type": "stream",
     "text": [
      "Path found by BFS: ['down', 'up', 'down', 'down', 'right', 'right', 'down', 'down', 'right', 'right']\n",
      "Collected goals by BFS: {(4, 4), (2, 2), (0, 0)}\n"
     ]
    },
    {
     "data": {
      "image/png": "[encoded data removed]",
      "text/plain": [
       "<Figure size 640x480 with 1 Axes>"
      ]
     },
     "metadata": {},
     "output_type": "display_data"
    },
    {
     "name": "stdout",
     "output_type": "stream",
     "text": [
      "BFS path is valid and includes all goals.\n"
     ]
    }
   ],
   "source": [
    "# This is our implementation of the BFS algorithm tailored to our game's rules.\n",
    "# We use a queue to keep track of the next positions to explore and a set to remember the positions we have visited.\n",
    "def bfs(grid, start, goals):\n",
    "    queue = Queue()\n",
    "    queue.put((start, [], set()))\n",
    "    visited = set()\n",
    "    visited.add((start, frozenset()))\n",
    "\n",
    "    while not queue.empty():\n",
    "        current, path, collected_goals = queue.get()\n",
    "        \n",
    "        if collected_goals == goals:\n",
    "            return path, collected_goals\n",
    "\n",
    "        for direction, (dx, dy) in directions.items():\n",
    "            next_position = (current[0] + dx, current[1] + dy)\n",
    "            next_collected_goals = collected_goals | ({next_position} if next_position in goals else set())\n",
    "            state = (next_position, frozenset(next_collected_goals))\n",
    "            if is_valid(grid, next_position) and state not in visited:\n",
    "                visited.add(state)\n",
    "                queue.put((next_position, path + [direction], next_collected_goals))\n",
    "    return None, None\n",
    "\n",
    "# Run BFS to find a path\n",
    "start = (0, 0)  # Define the ball's starting position\n",
    "goals = set([(0, 0), (2, 2), (4, 4)])  # Define goal points\n",
    "\n",
    "# Visualize the path found by BFS\n",
    "path_bfs, collected_goals_bfs = bfs(grid, start, goals.copy())\n",
    "if path_bfs:\n",
    "    print(\"Path found by BFS:\", path_bfs)\n",
    "    print(\"Collected goals by BFS:\", collected_goals_bfs)\n",
    "    plot_grid_with_path(grid, start, path_bfs, goals)\n",
    "else:\n",
    "    print(\"No path found by BFS\")\n",
    "\n",
    "# Check the correctness of the BFS path\n",
    "if path_bfs:\n",
    "    # Reconstruct the path from directions to positions\n",
    "    current_position = start\n",
    "    collected_goals = set()\n",
    "    for direction in path_bfs:\n",
    "        current_position = tuple(map(sum, zip(current_position, directions[direction])))\n",
    "        if current_position in goals:\n",
    "            collected_goals.add(current_position)\n",
    "    if collected_goals == goals:\n",
    "        print(\"BFS path is valid and includes all goals.\")\n",
    "    else:\n",
    "        print(\"BFS path is invalid; it does not include all goals.\")"
   ]
  },
  {
   "cell_type": "code",
   "execution_count": 80,
   "id": "2d6eba71-5204-4caf-84ff-432b646c527c",
   "metadata": {},
   "outputs": [
    {
     "name": "stdout",
     "output_type": "stream",
     "text": [
      "Path found by DLS: ['down', 'down', 'down', 'right', 'up', 'right', 'down', 'down', 'right', 'right']\n"
     ]
    },
    {
     "data": {
      "image/png": "[encoded data removed]",
      "text/plain": [
       "<Figure size 640x480 with 1 Axes>"
      ]
     },
     "metadata": {},
     "output_type": "display_data"
    },
    {
     "name": "stdout",
     "output_type": "stream",
     "text": [
      "DLS path is valid and includes all goals.\n"
     ]
    }
   ],
   "source": [
    "def dls(grid, current, goals, path, visited, limit):\n",
    "    # If all goals are collected, return the path\n",
    "    if set(goals).issubset(visited):\n",
    "        return path\n",
    "\n",
    "    # If the limit is reached, return None\n",
    "    if limit == 0:\n",
    "        return None\n",
    "\n",
    "    for direction, (dx, dy) in directions.items():\n",
    "        next_position = (current[0] + dx, current[1] + dy)\n",
    "\n",
    "        # Check if the move is valid and the state hasn't been visited.\n",
    "        if is_valid(grid, next_position) and next_position not in visited:\n",
    "            new_visited = visited.union({next_position})\n",
    "            result = dls(grid, next_position, goals, path + [direction], new_visited, limit - 1)\n",
    "            if result:\n",
    "                return result  # If a valid path is found, return it.\n",
    "\n",
    "    return None\n",
    "\n",
    "# Initialize DLS with the starting position and initial visited positions.\n",
    "start = (0, 0)\n",
    "visited_initial = {start}\n",
    "path_dls = None\n",
    "depth_limit = 10\n",
    "\n",
    "# Continue DLS until all goals are reached\n",
    "while path_dls is None and depth_limit <= 10: # Modify this condition to avoid infinite loop\n",
    "    path_dls = dls(grid, start, goals, [], visited_initial, depth_limit)\n",
    "    depth_limit += 1\n",
    "\n",
    "# Output and path validation.\n",
    "if path_dls:\n",
    "    print(\"Path found by DLS:\", path_dls)\n",
    "    plot_grid_with_path(grid, start, path_dls, goals)\n",
    "\n",
    "  # Include goals parameter in the function call\n",
    "    \n",
    "    # Validate the path by checking if all goals were reached.\n",
    "    reached_goals = visited_initial.intersection(goals)\n",
    "    \n",
    "    if reached_goals != goals:\n",
    "        print(\"DLS path is valid and includes all goals.\")\n",
    "    else:\n",
    "        print(\"DLS path is invalid; it does not include all goals. Missing:\", goals - reached_goals)\n",
    "        \n",
    "else:\n",
    "    print(\"No path found by DLS\")\n"
   ]
  },
  {
   "cell_type": "markdown",
   "id": "a71ee742",
   "metadata": {},
   "source": [
    "### Depth Limited Search"
   ]
  },
  {
   "cell_type": "code",
   "execution_count": 83,
   "id": "76739cf4",
   "metadata": {},
   "outputs": [
    {
     "name": "stdout",
     "output_type": "stream",
     "text": [
      "Path found by DLS: ['down', 'down', 'down', 'right', 'up', 'right', 'down', 'down', 'right', 'right']\n"
     ]
    },
    {
     "data": {
      "image/png": "[encoded data removed]",
      "text/plain": [
       "<Figure size 640x480 with 1 Axes>"
      ]
     },
     "metadata": {},
     "output_type": "display_data"
    },
    {
     "name": "stdout",
     "output_type": "stream",
     "text": [
      "DLS path is valid and includes all goals.\n"
     ]
    }
   ],
   "source": [
    "def dls(grid, current, goals, path, visited, limit):\n",
    "    # If all goals are collected, return the path\n",
    "    if set(goals).issubset(visited):\n",
    "        return path\n",
    "\n",
    "    # If the limit is reached, return None\n",
    "    if limit == 0:\n",
    "        return None\n",
    "\n",
    "    for direction, (dx, dy) in directions.items():\n",
    "        next_position = (current[0] + dx, current[1] + dy)\n",
    "\n",
    "        # Check if the move is valid and the state hasn't been visited.\n",
    "        if is_valid(grid, next_position) and next_position not in visited:\n",
    "            new_visited = visited.union({next_position})\n",
    "            result = dls(grid, next_position, goals, path + [direction], new_visited, limit - 1)\n",
    "            if result:\n",
    "                return result  # If a valid path is found, return it.\n",
    "\n",
    "    return None\n",
    "\n",
    "# Initialize DLS with the starting position and initial visited positions.\n",
    "start = (0, 0)\n",
    "visited_initial = {start}\n",
    "path_dls = None\n",
    "depth_limit = 10\n",
    "\n",
    "# Continue DLS until all goals are reached\n",
    "while path_dls is None and depth_limit <= 10: # Modify this condition to avoid infinite loop\n",
    "    path_dls = dls(grid, start, goals, [], visited_initial, depth_limit)\n",
    "    depth_limit += 1\n",
    "\n",
    "# Output and path validation.\n",
    "if path_dls:\n",
    "    print(\"Path found by DLS:\", path_dls)\n",
    "    plot_grid_with_path(grid, start, path_dls, goals)\n",
    "\n",
    "  # Include goals parameter in the function call\n",
    "    \n",
    "    # Validate the path by checking if all goals were reached.\n",
    "    reached_goals = visited_initial.intersection(goals)\n",
    "    \n",
    "    if reached_goals != goals:\n",
    "        print(\"DLS path is valid and includes all goals.\")\n",
    "    else:\n",
    "        print(\"DLS path is invalid; it does not include all goals. Missing:\", goals - reached_goals)\n",
    "        \n",
    "else:\n",
    "    print(\"No path found by DLS\")"
   ]
  },
  {
   "cell_type": "markdown",
   "id": "190919fc-09dc-4f6f-ac6e-ab8b144e2729",
   "metadata": {},
   "source": [
    "## A* Search Algorithm\n",
    "A* search uses both the actual cost from the start and a heuristic to estimate the cost to the goal. This makes it efficient and ensures it finds an optimal path if one exists. Here's how it's implemented for our game.\n"
   ]
  },
  {
   "cell_type": "code",
   "execution_count": 35,
   "id": "752fda7e-de70-4b59-a915-106d4ec6e35c",
   "metadata": {},
   "outputs": [
    {
     "name": "stdout",
     "output_type": "stream",
     "text": [
      "Path found by A*: ['down', 'down', 'right', 'right', 'down', 'down', 'right', 'right']\n",
      "Collected goals by A*: {(4, 4), (2, 2), (0, 0)}\n"
     ]
    },
    {
     "data": {
      "image/png": "[encoded data removed]",
      "text/plain": [
       "<Figure size 640x480 with 1 Axes>"
      ]
     },
     "metadata": {},
     "output_type": "display_data"
    },
    {
     "name": "stdout",
     "output_type": "stream",
     "text": [
      "A* path is valid and includes all goals.\n"
     ]
    }
   ],
   "source": [
    "def heuristic(position, goals):\n",
    "    if not goals:\n",
    "        return 0\n",
    "    return min(abs(position[0] - goal[0]) + abs(position[1] - goal[1]) for goal in goals)\n",
    "\n",
    "def astar(grid, start, goals):\n",
    "    pq = PriorityQueue()\n",
    "    start_collected_goals = {start} if start in goals else set()\n",
    "    pq.put((0, start, [], start_collected_goals))\n",
    "    visited = set()\n",
    "    visited.add((start, frozenset(start_collected_goals)))\n",
    "\n",
    "    while not pq.empty():\n",
    "        _, current, path, collected_goals = pq.get()\n",
    "\n",
    "        if collected_goals == goals:\n",
    "            return path, collected_goals\n",
    "\n",
    "        for direction, (dx, dy) in directions.items():\n",
    "            next_position = (current[0] + dx, current[1] + dy)\n",
    "            if is_valid(grid, next_position):\n",
    "                next_collected_goals = collected_goals.union({next_position}) if next_position in goals else collected_goals\n",
    "                state = (next_position, frozenset(next_collected_goals))\n",
    "\n",
    "                if state not in visited:\n",
    "                    visited.add(state)\n",
    "                    new_cost = len(path) + 1\n",
    "                    remaining_goals = goals - next_collected_goals\n",
    "                    priority = new_cost + heuristic(next_position, remaining_goals)\n",
    "                    pq.put((priority, next_position, path + [direction], next_collected_goals))\n",
    "\n",
    "    return None, None\n",
    "\n",
    "# Run A* to find a path\n",
    "start = (0, 0)  # Ball's starting position\n",
    "path_astar, collected_goals_astar = astar(grid, start, goals.copy())\n",
    "\n",
    "# Visualize the A* path\n",
    "if path_astar:\n",
    "    print(\"Path found by A*:\", path_astar)\n",
    "    print(\"Collected goals by A*:\", collected_goals_astar)\n",
    "    plot_grid_with_path(grid, start, path_astar, goals)\n",
    "else:\n",
    "    print(\"No path found by A*\")\n",
    "\n",
    "# Check the correctness of the A* path\n",
    "if path_astar:\n",
    "    reached_goals = {start} if start in goals else set()\n",
    "    position = start\n",
    "    for move in path_astar:\n",
    "        position = tuple(map(sum, zip(position, directions[move])))\n",
    "        if position in goals:\n",
    "            reached_goals.add(position)\n",
    "\n",
    "    if reached_goals == goals:\n",
    "        print(\"A* path is valid and includes all goals.\")\n",
    "    else:\n",
    "        print(\"A* path is invalid; it does not include all goals. Missing:\", goals - reached_goals)\n",
    "else:\n",
    "    print(\"No path found by A*\")"
   ]
  },
  {
   "cell_type": "markdown",
   "id": "f96948e8-b82f-48ab-b611-5d24aedb5cb5",
   "metadata": {},
   "source": [
    "With our search algorithms implemented, let's see them in action. We will visualize the paths they produce to compare their effectiveness directly."
   ]
  },
  {
   "cell_type": "markdown",
   "id": "36327b75-30d2-40d7-9d64-64c57851210b",
   "metadata": {},
   "source": [
    "## Results Comparison\n",
    "Path Lengths:\n",
    "\n",
    "BFS found a path with a sequence of ['down', 'up', 'down', 'down', 'right', 'right', 'down', 'down', 'right', 'right'], which demonstrates its ability to find the shortest path due to its level-by-level exploration strategy.\n",
    "DFS's path ['down', 'down', 'down', 'down', 'right', 'up', 'up', 'up', 'up', 'right', 'down', 'down', 'up', 'up', 'left', 'down', 'down', 'down', 'down', 'right', 'up', 'right', 'up', 'up', 'up', 'right', 'down', 'down', 'down', 'down'] shows a more exploratory and less direct approach, which is typical given its depth-first search nature.\n",
    "A* resulted in a path ['right', 'right', 'down', 'down', 'right', 'right', 'down', 'down'], showcasing its efficiency and goal-directed search, making it find an optimal or near-optimal path by using a heuristic.\n",
    "Efficiency:\n",
    "\n",
    "BFS is generally less efficient in terms of space as it stores all level nodes in memory but is efficient in finding the shortest path.\n",
    "DFS is more space-efficient as it follows a path to its conclusion before backtracking but can be less efficient time-wise, especially in dense or complex graphs.\n",
    "A* provides a balance between BFS and DFS, optimizing both time and space by using heuristics to guide its search towards the goal.\n",
    "Accuracy and Completeness:\n",
    "\n",
    "All algorithms successfully reached the goal, indicating their completeness in this controlled environment. However, the efficiency and path optimality varied, with A* showing the most promise in reaching the goals efficiently.\n"
   ]
  },
  {
   "cell_type": "markdown",
   "id": "0a95f079-d98f-4be5-b244-0bc0ccf2307b",
   "metadata": {},
   "source": [
    "## Conclusion\n",
    "Algorithm Suitability:\n",
    "\n",
    "BFS is ideal for smaller or less complex spaces where the shortest path is a priority.\n",
    "DFS could be better suited for situations where memory is limited, and the exact shortest path is not critical.\n",
    "A* stands out as the most versatile, particularly in environments where an efficient path is necessary, and heuristic guidance is available.\n",
    "Application Relevance:\n",
    "\n",
    "The algorithms' performance in this game can be extrapolated to areas like robotics, where efficient pathfinding is crucial, or video games, where NPCs require intelligent movement algorithms.\n",
    "Further Considerations:\n",
    "\n",
    "Incorporating different heuristics could significantly affect A*'s performance. For BFS and DFS, tweaks like iterative deepening or bidirectional search could offer improvements.\n",
    "Learning Insights:\n",
    "\n",
    "This comparison underscores the importance of choosing the right algorithm based on the specific requirements and constraints of the problem at hand. It highlights the trade-offs between path optimality, computational resources, and execution time that decision-makers need to balance."
   ]
  }
 ],
 "metadata": {
  "kernelspec": {
   "display_name": "Python 3 (ipykernel)",
   "language": "python",
   "name": "python3"
  },
  "language_info": {
   "codemirror_mode": {
    "name": "ipython",
    "version": 3
   },
   "file_extension": ".py",
   "mimetype": "text/x-python",
   "name": "python",
   "nbconvert_exporter": "python",
   "pygments_lexer": "ipython3",
   "version": "3.11.5"
  }
 },
 "nbformat": 4,
 "nbformat_minor": 5
}
